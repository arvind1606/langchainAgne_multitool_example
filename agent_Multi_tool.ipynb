{
 "cells": [
  {
   "cell_type": "code",
   "execution_count": 5,
   "id": "d66cc550-cece-4a46-816f-dd70a09e27f9",
   "metadata": {},
   "outputs": [],
   "source": [
    "import os\n",
    "import openai\n",
    "\n",
    "from langchain.chat_models import AzureChatOpenAI"
   ]
  },
  {
   "cell_type": "markdown",
   "id": "bdc61f69-2e1b-4460-8361-0f92be6e0f87",
   "metadata": {},
   "source": [
    "# Setting the env variables"
   ]
  },
  {
   "cell_type": "code",
   "execution_count": 6,
   "id": "26d1b39c-678c-4a0d-bb9c-fbc645a5da56",
   "metadata": {},
   "outputs": [
    {
     "data": {
      "text/plain": [
       "True"
      ]
     },
     "execution_count": 6,
     "metadata": {},
     "output_type": "execute_result"
    }
   ],
   "source": [
    "from dotenv import load_dotenv\n",
    "load_dotenv()"
   ]
  },
  {
   "cell_type": "code",
   "execution_count": 7,
   "id": "ea832e2a-3b65-431a-9adc-e4adea86465f",
   "metadata": {},
   "outputs": [],
   "source": [
    "# variables\n",
    "openai.api_key = os.getenv(\"api_key\")\n",
    "openai.api_base =  os.getenv(\"api_base\") \n",
    "openai.api_type = os.getenv(\"api_type\")\n",
    "openai.api_version = os.getenv(\"api_version\") # this may change in the future\n",
    "deployment_id=os.getenv(\"deployment_id_gpt_4\") \n",
    "\n",
    "gpt_model = os.getenv(\"deployment_id_gpt_4\") \n",
    "model_engine = os.getenv(\"deployment_id_gpt_4\") \n",
    "embd_model = 'text-embedding-ada-002'\n",
    "\n",
    "os.environ[\"OPENAI_API_TYPE\"] = os.getenv(\"api_type\")\n",
    "os.environ[\"OPENAI_API_VERSION\"] = os.getenv(\"api_version\")\n",
    "os.environ[\"OPENAI_API_BASE\"] = os.getenv(\"api_base\")\n",
    "os.environ[\"OPENAI_API_KEY\"] = os.getenv(\"api_key\")\n",
    "\n",
    "SERPAPI_API_KEY = os.getenv(\"SERPAPI_API_KEY\")"
   ]
  },
  {
   "cell_type": "code",
   "execution_count": 8,
   "id": "c15d49fb-b6a9-47c8-8efc-bfe1f16288db",
   "metadata": {},
   "outputs": [],
   "source": [
    "llm = AzureChatOpenAI(deployment_name=deployment_id,model_name=deployment_id, temperature=0.2)"
   ]
  },
  {
   "cell_type": "markdown",
   "id": "ef18b2aa-af1b-4c10-a266-5bcb124fc219",
   "metadata": {},
   "source": [
    "# initialize a calculator tool using a LLMMathChain"
   ]
  },
  {
   "cell_type": "code",
   "execution_count": 10,
   "id": "f0c46b2c-3280-4488-bc4e-43b81b3b2178",
   "metadata": {},
   "outputs": [],
   "source": [
    "from langchain.chains import LLMMathChain\n",
    "from langchain.agents import Tool\n",
    "\n",
    "llm_math = LLMMathChain(llm=llm)\n",
    "\n",
    "# initialize the math tool\n",
    "math_tool = Tool(\n",
    "    name='Calculator',\n",
    "    func=llm_math.run,\n",
    "    description='Useful for when you need to answer questions about math.'\n",
    ")\n",
    "# when giving tools to LLM, we must pass as list of tools\n",
    "tools = [math_tool]"
   ]
  },
  {
   "cell_type": "code",
   "execution_count": 12,
   "id": "d99f1abc-68ca-4823-87af-2b36ea557108",
   "metadata": {},
   "outputs": [],
   "source": [
    "from langchain.agents import load_tools\n",
    "\n",
    "tools = load_tools(\n",
    "    ['llm-math'],\n",
    "    llm=llm\n",
    ")"
   ]
  },
  {
   "cell_type": "code",
   "execution_count": 15,
   "id": "51aff554-18ae-48b3-b79b-191d30b6bf91",
   "metadata": {},
   "outputs": [],
   "source": [
    "from langchain.agents import initialize_agent\n",
    "\n",
    "zero_shot_agent = initialize_agent(\n",
    "\tagent=\"zero-shot-react-description\",\n",
    "\ttools=tools,\n",
    "\tllm=llm,\n",
    "\tverbose=True,\n",
    "\tmax_iterations=8\n",
    ")"
   ]
  },
  {
   "cell_type": "code",
   "execution_count": 14,
   "id": "b9f5bc96-bfb2-461c-ab83-7835cdbbc03f",
   "metadata": {},
   "outputs": [
    {
     "name": "stdout",
     "output_type": "stream",
     "text": [
      "\n",
      "\n",
      "\u001b[1m> Entering new AgentExecutor chain...\u001b[0m\n",
      "\u001b[32;1m\u001b[1;3mI need to calculate the expression (4.5*2.1)^2.2. First, I will calculate the product of 4.5 and 2.1.\n",
      "Action: Calculator\n",
      "Action Input: 4.5 * 2.1\u001b[0m\n",
      "Observation: \u001b[36;1m\u001b[1;3mAnswer: 9.450000000000001\u001b[0m\n",
      "Thought:\u001b[32;1m\u001b[1;3mNow that I have the product of 4.5 and 2.1, I need to raise it to the power of 2.2.\n",
      "Action: Calculator\n",
      "Action Input: 9.450000000000001 ** 2.2\u001b[0m\n",
      "Observation: \u001b[36;1m\u001b[1;3mAnswer: 139.94261298333066\u001b[0m\n",
      "Thought:\u001b[32;1m\u001b[1;3mI now know the final answer.\n",
      "Final Answer: 139.94261298333066\u001b[0m\n",
      "\n",
      "\u001b[1m> Finished chain.\u001b[0m\n"
     ]
    },
    {
     "data": {
      "text/plain": [
       "{'input': 'what is (4.5*2.1)^2.2?', 'output': '139.94261298333066'}"
      ]
     },
     "execution_count": 14,
     "metadata": {},
     "output_type": "execute_result"
    }
   ],
   "source": [
    "zero_shot_agent(\"what is (4.5*2.1)^2.2?\")"
   ]
  },
  {
   "cell_type": "code",
   "execution_count": 16,
   "id": "37815a42-3c87-4aa6-9a51-bc8e4237c08d",
   "metadata": {},
   "outputs": [
    {
     "data": {
      "text/plain": [
       "139.94261298333066"
      ]
     },
     "execution_count": 16,
     "metadata": {},
     "output_type": "execute_result"
    }
   ],
   "source": [
    "(4.5*2.1)**2.2"
   ]
  },
  {
   "cell_type": "markdown",
   "id": "4a400618-0943-4ee7-82e0-53dd3fab25db",
   "metadata": {},
   "source": [
    "# Another Example... bit complex"
   ]
  },
  {
   "cell_type": "code",
   "execution_count": 18,
   "id": "50b28b51-cfba-482a-af9d-dc29b326f0b2",
   "metadata": {},
   "outputs": [
    {
     "name": "stdout",
     "output_type": "stream",
     "text": [
      "\n",
      "\n",
      "\u001b[1m> Entering new AgentExecutor chain...\u001b[0m\n",
      "\u001b[32;1m\u001b[1;3mI need to calculate the total number of apples by adding Mary's apples and the apples from Giorgio's apple boxes.\n",
      "Thought: First, I need to find out how many apples are in two and a half apple boxes.\n",
      "Action: Calculator\n",
      "Action Input: 2.5 * 8\u001b[0m\n",
      "Observation: \u001b[36;1m\u001b[1;3mAnswer: 20.0\u001b[0m\n",
      "Thought:\u001b[32;1m\u001b[1;3mNow I know there are 20 apples in Giorgio's apple boxes. I need to add this to Mary's apples to find the total number of apples.\n",
      "Action: Calculator\n",
      "Action Input: 4 + 20\u001b[0m\n",
      "Observation: \u001b[36;1m\u001b[1;3mAnswer: 24\u001b[0m\n",
      "Thought:\u001b[32;1m\u001b[1;3mI now know the final answer.\n",
      "Final Answer: 24\u001b[0m\n",
      "\n",
      "\u001b[1m> Finished chain.\u001b[0m\n"
     ]
    },
    {
     "data": {
      "text/plain": [
       "{'input': 'if Mary has four apples and Giorgio brings two and a half apple boxes (apple box contains eight apples), how many apples do we have?',\n",
       " 'output': '24'}"
      ]
     },
     "execution_count": 18,
     "metadata": {},
     "output_type": "execute_result"
    }
   ],
   "source": [
    "zero_shot_agent(\"if Mary has four apples and Giorgio brings two and a half apple \" \\\n",
    "                \"boxes (apple box contains eight apples), how many apples do we \" \\\n",
    "                \"have?\")"
   ]
  },
  {
   "cell_type": "markdown",
   "id": "afe7ff62-72f2-4181-9eb1-524f9afd4e3a",
   "metadata": {},
   "source": [
    "## But what if we ask a non-math question? Something that a plain and simple LLM should be able to answer easily?"
   ]
  },
  {
   "cell_type": "code",
   "execution_count": 19,
   "id": "eb34ba75-9e6e-4b9a-ba66-a4818157dea6",
   "metadata": {},
   "outputs": [
    {
     "name": "stdout",
     "output_type": "stream",
     "text": [
      "\n",
      "\n",
      "\u001b[1m> Entering new AgentExecutor chain...\u001b[0m\n",
      "\u001b[32;1m\u001b[1;3mI cannot answer this question using a calculator, but I know the answer from my knowledge base.\n",
      "Final Answer: Oslo\u001b[0m\n",
      "\n",
      "\u001b[1m> Finished chain.\u001b[0m\n"
     ]
    },
    {
     "data": {
      "text/plain": [
       "{'input': 'what is the capital of Norway?', 'output': 'Oslo'}"
      ]
     },
     "execution_count": 19,
     "metadata": {},
     "output_type": "execute_result"
    }
   ],
   "source": [
    "zero_shot_agent(\"what is the capital of Norway?\")"
   ]
  },
  {
   "cell_type": "markdown",
   "id": "22921b1a-7d92-4c8c-a78a-bbf98538555f",
   "metadata": {},
   "source": [
    "# the agent to answer this \"general knowledge\" question. We can, we just need to link it to an LLM tool."
   ]
  },
  {
   "cell_type": "code",
   "execution_count": 20,
   "id": "86915ee1-3162-48d6-b4c0-2cd27b6dcbf9",
   "metadata": {},
   "outputs": [],
   "source": [
    "from langchain.prompts import PromptTemplate\n",
    "from langchain.chains import LLMChain\n",
    "\n",
    "prompt = PromptTemplate(\n",
    "    input_variables=[\"query\"],\n",
    "    template=\"{query}\"\n",
    ")\n",
    "\n",
    "llm_chain = LLMChain(llm=llm, prompt=prompt)\n",
    "\n",
    "# initialize the LLM tool\n",
    "llm_tool = Tool(\n",
    "    name='Language Model',\n",
    "    func=llm_chain.run,\n",
    "    description='use this tool for general purpose queries and logic'\n",
    ")"
   ]
  },
  {
   "cell_type": "markdown",
   "id": "4e851742-a381-4356-a166-9680dd2fa3ef",
   "metadata": {},
   "source": [
    "# Add the new tool to our tools list:"
   ]
  },
  {
   "cell_type": "code",
   "execution_count": 21,
   "id": "1c1504f4-8fa4-40b1-9f2d-fe1e3634c79f",
   "metadata": {},
   "outputs": [],
   "source": [
    "tools.append(llm_tool)"
   ]
  },
  {
   "cell_type": "markdown",
   "id": "ea747e98-b459-4c00-a56d-7b3a128fa5f1",
   "metadata": {},
   "source": [
    "# Now we reinitialize the agent with our two tools (\"Calculator\" and \"Language Model\")"
   ]
  },
  {
   "cell_type": "code",
   "execution_count": 26,
   "id": "8907dacd-9098-4440-a325-6d7381cd8be2",
   "metadata": {},
   "outputs": [],
   "source": [
    "zero_shot_agent = initialize_agent(\n",
    "    agent=\"zero-shot-react-description\",\n",
    "    tools=tools,\n",
    "    llm=llm,\n",
    "    verbose=True,\n",
    "    max_iterations=8\n",
    ")"
   ]
  },
  {
   "cell_type": "code",
   "execution_count": 23,
   "id": "e0f65a42-8379-411c-953d-71956a5f33af",
   "metadata": {},
   "outputs": [
    {
     "name": "stdout",
     "output_type": "stream",
     "text": [
      "\n",
      "\n",
      "\u001b[1m> Entering new AgentExecutor chain...\u001b[0m\n",
      "\u001b[32;1m\u001b[1;3mI need to use the Language Model to find the capital of Norway.\n",
      "Action: Language Model\n",
      "Action Input: What is the capital of Norway?\u001b[0m\n",
      "Observation: \u001b[33;1m\u001b[1;3mThe capital of Norway is Oslo.\u001b[0m\n",
      "Thought:\u001b[32;1m\u001b[1;3mI now know the final answer.\n",
      "Final Answer: Oslo\u001b[0m\n",
      "\n",
      "\u001b[1m> Finished chain.\u001b[0m\n"
     ]
    },
    {
     "data": {
      "text/plain": [
       "{'input': 'what is the capital of Norway?', 'output': 'Oslo'}"
      ]
     },
     "execution_count": 23,
     "metadata": {},
     "output_type": "execute_result"
    }
   ],
   "source": [
    "zero_shot_agent(\"what is the capital of Norway?\")"
   ]
  },
  {
   "cell_type": "code",
   "execution_count": 24,
   "id": "f0729d40-7903-40e2-b736-99c5db0a4071",
   "metadata": {},
   "outputs": [
    {
     "name": "stdout",
     "output_type": "stream",
     "text": [
      "\n",
      "\n",
      "\u001b[1m> Entering new AgentExecutor chain...\u001b[0m\n",
      "\u001b[32;1m\u001b[1;3mI need to calculate the expression (4.5*2.1)^2.2. I will use the calculator to compute the result.\n",
      "Action: Calculator\n",
      "Action Input: (4.5*2.1)**2.2\u001b[0m\n",
      "Observation: \u001b[36;1m\u001b[1;3mAnswer: 139.94261298333066\u001b[0m\n",
      "Thought:\u001b[32;1m\u001b[1;3mI now know the final answer.\n",
      "Final Answer: 139.94\u001b[0m\n",
      "\n",
      "\u001b[1m> Finished chain.\u001b[0m\n"
     ]
    },
    {
     "data": {
      "text/plain": [
       "{'input': 'what is (4.5*2.1)^2.2?', 'output': '139.94'}"
      ]
     },
     "execution_count": 24,
     "metadata": {},
     "output_type": "execute_result"
    }
   ],
   "source": [
    "zero_shot_agent(\"what is (4.5*2.1)^2.2?\")"
   ]
  },
  {
   "cell_type": "code",
   "execution_count": null,
   "id": "394f18e3-d133-4686-bd46-a23018049d52",
   "metadata": {},
   "outputs": [],
   "source": []
  },
  {
   "cell_type": "code",
   "execution_count": 28,
   "id": "d9d99beb-7526-460a-b0f4-443037ebd662",
   "metadata": {},
   "outputs": [
    {
     "name": "stdout",
     "output_type": "stream",
     "text": [
      "\n",
      "\n",
      "\u001b[1m> Entering new AgentExecutor chain...\u001b[0m\n",
      "\u001b[32;1m\u001b[1;3mFirst, I need to find the populations of India and Canada. Then, I will multiply them and find the square root of the result. \n",
      "Action: Language Model\n",
      "Action Input: What are the populations of India and Canada?\u001b[0m\n",
      "Observation: \u001b[33;1m\u001b[1;3mAs of October 2021, the population of India is approximately 1.366 billion, while the population of Canada is approximately 38 million. Please note that these figures are estimates and may change over time.\u001b[0m\n",
      "Thought:\u001b[32;1m\u001b[1;3mNow I have the population numbers, I will multiply them and find the square root of the result.\n",
      "Action: Calculator\n",
      "Action Input: 1366000000 * 38000000\u001b[0m\n",
      "Observation: \u001b[36;1m\u001b[1;3mAnswer: 51908000000000000\u001b[0m\n",
      "Thought:\u001b[32;1m\u001b[1;3mNow I have the product of the populations, I will find the square root of this number.\n",
      "Action: Calculator\n",
      "Action Input: sqrt(51908000000000000)\u001b[0m\n",
      "Observation: \u001b[36;1m\u001b[1;3mAnswer: 227833272.3725839\u001b[0m\n",
      "Thought:\u001b[32;1m\u001b[1;3mI now know the final answer.\n",
      "Final Answer: 227,833,272.37\u001b[0m\n",
      "\n",
      "\u001b[1m> Finished chain.\u001b[0m\n"
     ]
    },
    {
     "data": {
      "text/plain": [
       "{'input': 'what is the square root of the multiplication of populations of India and Canada?',\n",
       " 'output': '227,833,272.37'}"
      ]
     },
     "execution_count": 28,
     "metadata": {},
     "output_type": "execute_result"
    }
   ],
   "source": [
    "zero_shot_agent(\"what is the square root of the multiplication of populations of India and Canada?\")"
   ]
  },
  {
   "cell_type": "code",
   "execution_count": null,
   "id": "2f8f4b71-a49b-4796-bedf-c96a93ac6170",
   "metadata": {},
   "outputs": [],
   "source": []
  }
 ],
 "metadata": {
  "kernelspec": {
   "display_name": "Python 3 (ipykernel)",
   "language": "python",
   "name": "python3"
  },
  "language_info": {
   "codemirror_mode": {
    "name": "ipython",
    "version": 3
   },
   "file_extension": ".py",
   "mimetype": "text/x-python",
   "name": "python",
   "nbconvert_exporter": "python",
   "pygments_lexer": "ipython3",
   "version": "3.11.5"
  }
 },
 "nbformat": 4,
 "nbformat_minor": 5
}
