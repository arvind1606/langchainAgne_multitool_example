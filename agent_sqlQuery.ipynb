{
 "cells": [
  {
   "cell_type": "code",
   "execution_count": 7,
   "id": "24d7d500-82fe-432e-a23a-af7d8cc88904",
   "metadata": {},
   "outputs": [],
   "source": [
    "import os\n",
    "import openai\n",
    "\n",
    "from langchain.chat_models import AzureChatOpenAI"
   ]
  },
  {
   "cell_type": "markdown",
   "id": "5bdab12b-90e7-44ae-9bbd-33295e1f1ee0",
   "metadata": {},
   "source": [
    "# Setting the env variables"
   ]
  },
  {
   "cell_type": "code",
   "execution_count": 4,
   "id": "584e7920-14b5-4004-a6e3-b0e808d081b3",
   "metadata": {},
   "outputs": [
    {
     "data": {
      "text/plain": [
       "True"
      ]
     },
     "execution_count": 4,
     "metadata": {},
     "output_type": "execute_result"
    }
   ],
   "source": [
    "from dotenv import load_dotenv\n",
    "load_dotenv()"
   ]
  },
  {
   "cell_type": "code",
   "execution_count": 5,
   "id": "c539e7e0-2211-4dd1-bc6b-c92821ccb277",
   "metadata": {},
   "outputs": [],
   "source": [
    "# variables\n",
    "openai.api_key = os.getenv(\"api_key\")\n",
    "openai.api_base =  os.getenv(\"api_base\") \n",
    "openai.api_type = os.getenv(\"api_type\")\n",
    "openai.api_version = os.getenv(\"api_version\") # this may change in the future\n",
    "deployment_id=os.getenv(\"deployment_id_gpt_4\") \n",
    "\n",
    "gpt_model = os.getenv(\"deployment_id_gpt_4\") \n",
    "model_engine = os.getenv(\"deployment_id_gpt_4\") \n",
    "embd_model = 'text-embedding-ada-002'\n",
    "\n",
    "os.environ[\"OPENAI_API_TYPE\"] = os.getenv(\"api_type\")\n",
    "os.environ[\"OPENAI_API_VERSION\"] = os.getenv(\"api_version\")\n",
    "os.environ[\"OPENAI_API_BASE\"] = os.getenv(\"api_base\")\n",
    "os.environ[\"OPENAI_API_KEY\"] = os.getenv(\"api_key\")\n",
    "\n",
    "SERPAPI_API_KEY = os.getenv(\"SERPAPI_API_KEY\")"
   ]
  },
  {
   "cell_type": "code",
   "execution_count": 25,
   "id": "dcc8d8d4-59fd-40b5-ae18-98d65f666012",
   "metadata": {},
   "outputs": [],
   "source": [
    "llm = AzureChatOpenAI(deployment_name=deployment_id,model_name=deployment_id, temperature=0.2)"
   ]
  },
  {
   "cell_type": "markdown",
   "id": "fa38b7c2-db35-440d-a2bd-896106952c2d",
   "metadata": {},
   "source": [
    "# What is Agent?\n",
    "\n",
    "## Agents use an LLM to determine which actions to take and in what order. An action can either be using a tool and observing its output, or returning to the user."
   ]
  },
  {
   "cell_type": "markdown",
   "id": "879ceeee-ddbe-47c6-b5b7-62efc7e6a728",
   "metadata": {},
   "source": [
    "# Create database"
   ]
  },
  {
   "cell_type": "code",
   "execution_count": 26,
   "id": "6cc6a653-e429-47c8-8056-9d30951e1d73",
   "metadata": {},
   "outputs": [],
   "source": [
    "from sqlalchemy import MetaData\n",
    "\n",
    "metadata_obj = MetaData()\n",
    "\n",
    "from sqlalchemy import Column, Integer, String, Table, Date, Float\n",
    "\n",
    "stocks = Table(\n",
    "    \"stocks\",\n",
    "    metadata_obj,\n",
    "    Column(\"obs_id\", Integer, primary_key=True),\n",
    "    Column(\"stock_ticker\", String(4), nullable=False),\n",
    "    Column(\"price\", Float, nullable=False),\n",
    "    Column(\"date\", Date, nullable=False),\n",
    ")\n",
    "from sqlalchemy import create_engine\n",
    "\n",
    "engine = create_engine(\"sqlite:///:memory:\")\n",
    "metadata_obj.create_all(engine)\n",
    "\n",
    "from datetime import datetime\n",
    "\n",
    "observations = [\n",
    "    [1, 'ABC', 200, datetime(2023, 1, 1)],\n",
    "    [2, 'ABC', 208, datetime(2023, 1, 2)],\n",
    "    [3, 'ABC', 232, datetime(2023, 1, 3)],\n",
    "    [4, 'ABC', 225, datetime(2023, 1, 4)],\n",
    "    [5, 'ABC', 226, datetime(2023, 1, 5)],\n",
    "    [6, 'XYZ', 810, datetime(2023, 1, 1)],\n",
    "    [7, 'XYZ', 803, datetime(2023, 1, 2)],\n",
    "    [8, 'XYZ', 798, datetime(2023, 1, 3)],\n",
    "    [9, 'XYZ', 795, datetime(2023, 1, 4)],\n",
    "    [10, 'XYZ', 791, datetime(2023, 1, 5)],\n",
    "]\n",
    "\n",
    "from sqlalchemy import insert\n",
    "\n",
    "def insert_obs(obs):\n",
    "    stmt = insert(stocks).values(\n",
    "    obs_id=obs[0],\n",
    "    stock_ticker=obs[1],\n",
    "    price=obs[2],\n",
    "    date=obs[3]\n",
    "    )\n",
    "\n",
    "    with engine.begin() as conn:\n",
    "        conn.execute(stmt)\n",
    "\n",
    "for obs in observations:\n",
    "    insert_obs(obs)"
   ]
  },
  {
   "cell_type": "code",
   "execution_count": 27,
   "id": "e498529b-a0ef-4602-b817-8abc75707375",
   "metadata": {},
   "outputs": [],
   "source": [
    "from langchain.utilities import SQLDatabase\n",
    "from langchain_experimental.sql import SQLDatabaseChain\n",
    "\n",
    "db = SQLDatabase(engine)\n",
    "sql_chain = SQLDatabaseChain(llm=llm, database=db, verbose=True)"
   ]
  },
  {
   "cell_type": "markdown",
   "id": "ad24809c-a752-4eb3-b744-bc29d4187137",
   "metadata": {},
   "source": [
    "# Agent types\n",
    "\n",
    "In this section we will review several agents and see how they 'think' and what they can do.\r\n",
    "\r\n",
    "Using one of langchain's pre-built agents involves three variables:\r\n",
    "\r\n",
    "defining the tools or the toolkit\r\n",
    "defining the llm\r\n",
    "defining the agent type"
   ]
  },
  {
   "cell_type": "markdown",
   "id": "1afd97ab-f401-41be-a6e7-7b72e27cc088",
   "metadata": {},
   "source": [
    "## Agent type #1: Zero Shot React"
   ]
  },
  {
   "cell_type": "code",
   "execution_count": 28,
   "id": "3571ede5-433e-4cb6-8491-4745e2130850",
   "metadata": {},
   "outputs": [],
   "source": [
    "\n",
    "from langchain.agents import create_sql_agent\n",
    "from langchain.agents.agent_toolkits import SQLDatabaseToolkit\n",
    "from langchain.agents.agent_types import AgentType\n",
    "\n",
    "agent_executor = create_sql_agent(\n",
    "    llm=llm,\n",
    "    toolkit=SQLDatabaseToolkit(db=db, llm=llm),\n",
    "    verbose=True,\n",
    "    agent_type=AgentType.ZERO_SHOT_REACT_DESCRIPTION,\n",
    "    max_iterations=8\n",
    ")"
   ]
  },
  {
   "cell_type": "code",
   "execution_count": 31,
   "id": "8b64b3c9-eb4f-407d-8dc7-4dc94ad31a55",
   "metadata": {},
   "outputs": [
    {
     "name": "stdout",
     "output_type": "stream",
     "text": [
      "\n",
      "\n",
      "\u001b[1m> Entering new AgentExecutor chain...\u001b[0m\n",
      "\u001b[32;1m\u001b[1;3mAction: sql_db_list_tables\n",
      "Action Input: \u001b[0m\n",
      "Observation: \u001b[38;5;200m\u001b[1;3mstocks\u001b[0m\n",
      "Thought:\u001b[32;1m\u001b[1;3mI should check the schema of the stocks table to see the columns and sample data.\n",
      "Action: sql_db_schema\n",
      "Action Input: stocks\u001b[0m\n",
      "Observation: \u001b[33;1m\u001b[1;3m\n",
      "CREATE TABLE stocks (\n",
      "\tobs_id INTEGER NOT NULL, \n",
      "\tstock_ticker VARCHAR(4) NOT NULL, \n",
      "\tprice FLOAT NOT NULL, \n",
      "\tdate DATE NOT NULL, \n",
      "\tPRIMARY KEY (obs_id)\n",
      ")\n",
      "\n",
      "/*\n",
      "3 rows from stocks table:\n",
      "obs_id\tstock_ticker\tprice\tdate\n",
      "1\tABC\t200.0\t2023-01-01\n",
      "2\tABC\t208.0\t2023-01-02\n",
      "3\tABC\t232.0\t2023-01-03\n",
      "*/\u001b[0m\n",
      "Thought:\u001b[32;1m\u001b[1;3mI should query the stock prices for 'ABC' and 'XYZ' on January 3rd and January 4th, then calculate the multiplication of the ratios.\n",
      "Action: sql_db_query_checker\n",
      "Action Input: SELECT date, stock_ticker, price FROM stocks WHERE stock_ticker IN ('ABC', 'XYZ') AND date IN ('2023-01-03', '2023-01-04')\u001b[0m\n",
      "Observation: \u001b[36;1m\u001b[1;3mSELECT date, stock_ticker, price FROM stocks WHERE stock_ticker IN ('ABC', 'XYZ') AND date IN ('2023-01-03', '2023-01-04')\u001b[0m\n",
      "Thought:\u001b[32;1m\u001b[1;3mThe query looks correct, I should execute it now.\n",
      "Action: sql_db_query\n",
      "Action Input: SELECT date, stock_ticker, price FROM stocks WHERE stock_ticker IN ('ABC', 'XYZ') AND date IN ('2023-01-03', '2023-01-04')\u001b[0m\n",
      "Observation: \u001b[36;1m\u001b[1;3m[('2023-01-03', 'ABC', 232.0), ('2023-01-04', 'ABC', 225.0), ('2023-01-03', 'XYZ', 798.0), ('2023-01-04', 'XYZ', 795.0)]\u001b[0m\n",
      "Thought:\u001b[32;1m\u001b[1;3mI now know the stock prices for 'ABC' and 'XYZ' on January 3rd and January 4th. I can calculate the multiplication of the ratios.\n",
      "Final Answer: ((232.0 / 798.0) * (225.0 / 795.0)) = 0.085\u001b[0m\n",
      "\n",
      "\u001b[1m> Finished chain.\u001b[0m\n",
      "{'input': \"What is the multiplication of the ratio between stock prices for 'ABC' and 'XYZ' in January 3rd and the ratio between the same stock prices in January the 4th?\", 'output': '((232.0 / 798.0) * (225.0 / 795.0)) = 0.085'}\n"
     ]
    }
   ],
   "source": [
    "query = \"What is the multiplication of the ratio between stock \" + \\\n",
    "    \"prices for 'ABC' and 'XYZ' in January 3rd and the ratio \" +  \\\n",
    "    \"between the same stock prices in January the 4th?\"\n",
    "\n",
    "result = agent_executor(query)\n",
    "\n",
    "print(result)"
   ]
  },
  {
   "cell_type": "code",
   "execution_count": 32,
   "id": "95d748f1-44db-4a82-9755-02c1ebe2e48f",
   "metadata": {},
   "outputs": [],
   "source": [
    "# print(agent_executor.agent.llm_chain.prompt.template)"
   ]
  },
  {
   "cell_type": "code",
   "execution_count": null,
   "id": "e9b5abc0-b547-4f04-b787-d293e50d4273",
   "metadata": {},
   "outputs": [],
   "source": []
  }
 ],
 "metadata": {
  "kernelspec": {
   "display_name": "py11",
   "language": "python",
   "name": "py11"
  },
  "language_info": {
   "codemirror_mode": {
    "name": "ipython",
    "version": 3
   },
   "file_extension": ".py",
   "mimetype": "text/x-python",
   "name": "python",
   "nbconvert_exporter": "python",
   "pygments_lexer": "ipython3",
   "version": "3.11.5"
  }
 },
 "nbformat": 4,
 "nbformat_minor": 5
}
